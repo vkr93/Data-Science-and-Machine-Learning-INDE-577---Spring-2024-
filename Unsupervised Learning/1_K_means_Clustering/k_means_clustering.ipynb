{
 "cells": [
  {
   "cell_type": "code",
   "execution_count": null,
   "metadata": {},
   "outputs": [],
   "source": [
    "#K-Means Clustering"
   ]
  },
  {
   "cell_type": "markdown",
   "metadata": {},
   "source": [
    "**Task**:  To get insights into customer behaviour and preferences by using K-means clustering. The data set used for this included purchasing behaviour. \n",
    "\n",
    "CLustering the customers based on their spending using k-means clustering algorithm, and then interpret the resulting clusters to gain insights into the purchasing behavior. \n",
    "\n",
    "\n",
    "The ![Customer Personality Analysis](Data-Science-and-Machine-Learning-INDE-577---Spring-2024-/Unsupervised Learning/1_K_means_Clustering/Dataset/marketing_campaign.csv) is a dataset of customer spending for two years spending data. This analysis helps in reconginizing the company's ideal costumer. This would help busineses understand cosutmers and make them modify the deals and products for specific needs.  \n",
    "\n"
   ]
  },
  {
   "cell_type": "markdown",
   "metadata": {},
   "source": []
  }
 ],
 "metadata": {
  "kernelspec": {
   "display_name": "base",
   "language": "python",
   "name": "python3"
  },
  "language_info": {
   "name": "python",
   "version": "3.11.5"
  }
 },
 "nbformat": 4,
 "nbformat_minor": 2
}
