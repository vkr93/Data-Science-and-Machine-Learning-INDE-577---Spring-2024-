{
 "cells": [
  {
   "cell_type": "markdown",
   "metadata": {},
   "source": [
    "## Decision Trees \n",
    "\n",
    "This notebook will demonstrate an appliction of the concept on the [Diabiatic Patients](dataset/diabetes.csv) dataset. "
   ]
  },
  {
   "cell_type": "code",
   "execution_count": 8,
   "metadata": {},
   "outputs": [],
   "source": [
    "#Always include important imports at the top\n",
    "import numpy as np #for linear algebra functions\n",
    "import pandas as pd #for data processing the CSV\n",
    "import time\n",
    "\n",
    "#Visualization\n",
    "import seaborn as sns\n",
    "import matplotlib.pyplot as plt\n",
    "\n",
    "#sklearn imports\n",
    "from sklearn import preprocessing\n",
    "from sklearn.preprocessing import StandardScaler\n",
    "from sklearn.model_selection import train_test_split\n",
    "from sklearn.tree import DecisionTreeClassifier\n",
    "from sklearn.datasets import make_classification\n",
    "from sklearn.model_selection import cross_val_score\n",
    "from sklearn.tree import plot_tree\n",
    "from sklearn.metrics import accuracy_score\n",
    "from sklearn.metrics import confusion_matrix\n",
    "from sklearn.metrics import classification_report #for nice end formatting\n",
    "from sklearn.metrics import roc_curve, roc_auc_score"
   ]
  },
  {
   "cell_type": "code",
   "execution_count": 2,
   "metadata": {},
   "outputs": [],
   "source": [
    "#importing the dataset as a dataframe\n",
    "df = pd.read_csv(\"/Users/vinodk/Documents/Rice Univeristy/4th semster/Data Science and ML /INDE 577 Repository/Data-Science-and-Machine-Learning-INDE-577---Spring-2024-/Supervised Learning/7_Decision Trees/Dataset/diabetes.csv\")"
   ]
  },
  {
   "cell_type": "markdown",
   "metadata": {},
   "source": [
    "## Pre-Processing\n",
    "\n",
    "Before we can create decision trees, we need to pre-process the data and encode labels. We will do this using sklearn's preprocessing package."
   ]
  },
  {
   "cell_type": "code",
   "execution_count": 3,
   "metadata": {},
   "outputs": [
    {
     "data": {
      "text/plain": [
       "Pregnancies                 0\n",
       "Glucose                     0\n",
       "BloodPressure               0\n",
       "SkinThickness               0\n",
       "Insulin                     0\n",
       "BMI                         0\n",
       "DiabetesPedigreeFunction    0\n",
       "Age                         0\n",
       "Outcome                     0\n",
       "dtype: int64"
      ]
     },
     "execution_count": 3,
     "metadata": {},
     "output_type": "execute_result"
    }
   ],
   "source": [
    "# check for null values\n",
    "df.isnull().sum()"
   ]
  },
  {
   "cell_type": "code",
   "execution_count": 4,
   "metadata": {},
   "outputs": [
    {
     "name": "stdout",
     "output_type": "stream",
     "text": [
      "Information about the dataset:\n",
      "<class 'pandas.core.frame.DataFrame'>\n",
      "RangeIndex: 768 entries, 0 to 767\n",
      "Data columns (total 9 columns):\n",
      " #   Column                    Non-Null Count  Dtype  \n",
      "---  ------                    --------------  -----  \n",
      " 0   Pregnancies               768 non-null    int64  \n",
      " 1   Glucose                   768 non-null    int64  \n",
      " 2   BloodPressure             768 non-null    int64  \n",
      " 3   SkinThickness             768 non-null    int64  \n",
      " 4   Insulin                   768 non-null    int64  \n",
      " 5   BMI                       768 non-null    float64\n",
      " 6   DiabetesPedigreeFunction  768 non-null    float64\n",
      " 7   Age                       768 non-null    int64  \n",
      " 8   Outcome                   768 non-null    int64  \n",
      "dtypes: float64(2), int64(7)\n",
      "memory usage: 54.1 KB\n",
      "None\n"
     ]
    }
   ],
   "source": [
    "# Output the information about the dataset\n",
    "print(\"Information about the dataset:\")\n",
    "print(df.info())\n"
   ]
  },
  {
   "cell_type": "code",
   "execution_count": 5,
   "metadata": {},
   "outputs": [
    {
     "name": "stdout",
     "output_type": "stream",
     "text": [
      "   Pregnancies  Glucose  BloodPressure  SkinThickness  Insulin   BMI  \\\n",
      "0            6      148             72             35        0  33.6   \n",
      "1            1       85             66             29        0  26.6   \n",
      "2            8      183             64              0        0  23.3   \n",
      "3            1       89             66             23       94  28.1   \n",
      "4            0      137             40             35      168  43.1   \n",
      "\n",
      "   DiabetesPedigreeFunction  Age  Outcome  \n",
      "0                     0.627   50        1  \n",
      "1                     0.351   31        0  \n",
      "2                     0.672   32        1  \n",
      "3                     0.167   21        0  \n",
      "4                     2.288   33        1  \n"
     ]
    }
   ],
   "source": [
    "# Display the top 5 rows of the dataset to inspect the data\n",
    "print(df.head())\n"
   ]
  },
  {
   "cell_type": "markdown",
   "metadata": {},
   "source": [
    "### Test and train"
   ]
  },
  {
   "cell_type": "code",
   "execution_count": 6,
   "metadata": {},
   "outputs": [],
   "source": [
    "# Separate features and the target variable from the dataset\n",
    "X = df.drop('Outcome', axis=1)\n",
    "Y = df['Outcome']\n",
    "\n",
    "# Normalize the feature data\n",
    "normalizer = StandardScaler()\n",
    "X_normalized = normalizer.fit_transform(X)\n",
    "\n",
    "# Divide the dataset into training and test subsets\n",
    "X_train, X_test, Y_train, Y_test = train_test_split(X_normalized, Y, test_size=0.2, random_state=42)\n"
   ]
  },
  {
   "cell_type": "markdown",
   "metadata": {},
   "source": [
    "### Model Building "
   ]
  },
  {
   "cell_type": "code",
   "execution_count": 9,
   "metadata": {},
   "outputs": [
    {
     "name": "stdout",
     "output_type": "stream",
     "text": [
      "Average CV Accuracy: 0.76\n"
     ]
    }
   ],
   "source": [
    "#Model Building and Training\n",
    "# Initialize a Decision Tree classifier\n",
    "dt= DecisionTreeClassifier(max_depth=3, criterion='gini', splitter='best')\n",
    "\n",
    "# Execute 5-fold cross-validation to assess model reliability\n",
    "cross_val_scores = cross_val_score(dt, X_train, Y_train, cv=5, scoring='accuracy')\n",
    "average_cv_score = cross_val_scores.mean()\n",
    "\n",
    "# Train the Decision Tree classifier using the training data\n",
    "dt.fit(X_train, Y_train)\n",
    "\n",
    "# Display the average cross-validation accuracy\n",
    "print(f'Average CV Accuracy: {average_cv_score:.2f}')\n"
   ]
  },
  {
   "cell_type": "code",
   "execution_count": 10,
   "metadata": {},
   "outputs": [
    {
     "name": "stdout",
     "output_type": "stream",
     "text": [
      "Training set accuracy: 0.777\n",
      "Test set accuracy: 0.760\n",
      "              precision    recall  f1-score   support\n",
      "\n",
      "           0       0.80      0.84      0.82        99\n",
      "           1       0.68      0.62      0.65        55\n",
      "\n",
      "    accuracy                           0.76       154\n",
      "   macro avg       0.74      0.73      0.73       154\n",
      "weighted avg       0.76      0.76      0.76       154\n",
      "\n"
     ]
    }
   ],
   "source": [
    "## Evaluate the model on the training set\n",
    "# Predict the outcomes for the training dataset\n",
    "predictions_train = dt.predict(X_train)\n",
    "accuracy_train = accuracy_score(Y_train, predictions_train)\n",
    "\n",
    "# Predict the outcomes for the testing dataset\n",
    "predictions_test = dt.predict(X_test)\n",
    "accuracy_test = accuracy_score(Y_test, predictions_test)\n",
    "\n",
    "# Output the accuracy scores for both training and testing sets\n",
    "print(f\"Training set accuracy: {accuracy_train:.3f}\")\n",
    "print(f\"Test set accuracy: {accuracy_test:.3f}\")\n",
    "\n",
    "# Output the detailed classification report for the testing set\n",
    "print(classification_report(Y_test, predictions_test))\n"
   ]
  },
  {
   "cell_type": "code",
   "execution_count": 11,
   "metadata": {},
   "outputs": [
    {
     "data": {
      "image/png": "[encoded data removed]",
      "text/plain": [
       "<Figure size 600x400 with 1 Axes>"
      ]
     },
     "metadata": {},
     "output_type": "display_data"
    }
   ],
   "source": [
    "# Visualization of confusion matrix using seaborn\n",
    "# Import metrics from sklearn \n",
    "from sklearn import metrics\n",
    "# Generate the confusion matrix\n",
    "conf_matrix = metrics.confusion_matrix(Y_test, predictions_test)\n",
    "\n",
    "\n",
    "# Convert the confusion matrix into a pandas DataFrame for better visual formatting\n",
    "conf_matrix_df = pd.DataFrame(conf_matrix)\n",
    "\n",
    "# Plotting the confusion matrix\n",
    "plt.figure(figsize=(6, 4))\n",
    "axis = plt.axes()\n",
    "sns.set(font_scale=1.3)\n",
    "sns.heatmap(conf_matrix_df,\n",
    "            annot=True,\n",
    "            fmt=\"g\",\n",
    "            ax=axis,\n",
    "            cmap=\"Blues\",\n",
    "            cbar=False)  # \n",
    "axis.set_title(\"Confusion Matrix - Decision Tree\")\n",
    "axis.set_xlabel(\"Predicted\", fontsize=10)\n",
    "axis.set_xticklabels([\"No Diabetes\", \"Diabetes\"])\n",
    "axis.set_ylabel(\"Actual\", fontsize=10)\n",
    "axis.set_yticklabels([\"No Diabetes\", \"Diabetes\"], rotation=0)\n",
    "plt.show()\n"
   ]
  },
  {
   "cell_type": "code",
   "execution_count": 12,
   "metadata": {},
   "outputs": [
    {
     "name": "stdout",
     "output_type": "stream",
     "text": [
      "Accuracy:  0.7662337662337663\n",
      "              precision    recall  f1-score   support\n",
      "\n",
      "           0       0.81      0.84      0.82        99\n",
      "           1       0.69      0.64      0.66        55\n",
      "\n",
      "    accuracy                           0.77       154\n",
      "   macro avg       0.75      0.74      0.74       154\n",
      "weighted avg       0.76      0.77      0.76       154\n",
      "\n"
     ]
    }
   ],
   "source": [
    "# Import GridSearchCV for hyperparameter tuning\n",
    "from sklearn.model_selection import GridSearchCV\n",
    "\n",
    "# Specify the parameter grid to search through\n",
    "param_grid = {'max_depth': [2, 3, 4, 5],\n",
    "                     'criterion': ['gini', 'entropy'],\n",
    "                     'splitter': ['best', 'random']}\n",
    "\n",
    "# Initialize the Decision Tree classifier\n",
    "dt = DecisionTreeClassifier()\n",
    "\n",
    "# Set up GridSearchCV with the decision tree and the parameter grid\n",
    "grid_search_cv = GridSearchCV(dt, param_grid, cv=5, scoring='accuracy')\n",
    "\n",
    "# Perform the grid search on the training data\n",
    "grid_search_cv.fit(X_train, Y_train)\n",
    "\n",
    "# Retrieve the best model from the grid search\n",
    "optimal_dt = grid_search_cv.best_estimator_\n",
    "optimal_score = grid_search_cv.best_score_\n",
    "\n",
    "# Use the best model to make predictions on the test set\n",
    "predictions_test = optimal_dt.predict(X_test)\n",
    "\n",
    "# Output the best model's accuracy and the classification report\n",
    "print(\"Accuracy: \", accuracy_score(Y_test, predictions_test))\n",
    "print(classification_report(Y_test, predictions_test))\n"
   ]
  },
  {
   "cell_type": "markdown",
   "metadata": {},
   "source": [
    "Accuracy is slightly improved (less than 1%) using GridSearchCV."
   ]
  },
  {
   "cell_type": "code",
   "execution_count": 13,
   "metadata": {},
   "outputs": [
    {
     "data": {
      "image/png": "[encoded data removed]",
      "text/plain": [
       "<Figure size 640x480 with 1 Axes>"
      ]
     },
     "metadata": {},
     "output_type": "display_data"
    },
    {
     "name": "stdout",
     "output_type": "stream",
     "text": [
      "AUC: 0.80\n"
     ]
    }
   ],
   "source": [
    "# predict class probabilities for test set\n",
    "y_prob = optimal_dt.predict_proba(X_test)[:, 1]\n",
    "\n",
    "# calculate AUC\n",
    "auc = roc_auc_score(Y_test, y_prob)\n",
    "\n",
    "# plot ROC curve\n",
    "fpr, tpr, thresholds = roc_curve(Y_test, y_prob)\n",
    "plt.plot(fpr, tpr, label=f'AUC = {auc:.2f}')\n",
    "plt.xlabel('False Positive Rate')\n",
    "plt.ylabel('True Positive Rate')\n",
    "plt.title('ROC Curve')\n",
    "plt.legend()\n",
    "plt.show()\n",
    "\n",
    "# print AUC value\n",
    "print(f'AUC: {auc:.2f}')"
   ]
  },
  {
   "cell_type": "code",
   "execution_count": 15,
   "metadata": {},
   "outputs": [
    {
     "name": "stdout",
     "output_type": "stream",
     "text": [
      "Number of nodes: 5\n",
      "Tree depth: 2\n"
     ]
    }
   ],
   "source": [
    "from sklearn.datasets import make_classification\n",
    "from sklearn.tree import DecisionTreeClassifier\n",
    "from sklearn.model_selection import train_test_split\n",
    "\n",
    "# Generate a sample dataset for illustration\n",
    "X, y = make_classification(n_samples=100, n_features=4, random_state=42)\n",
    "\n",
    "# Split the dataset into training and testing sets\n",
    "X_train, X_test, y_train, y_test = train_test_split(X, y, test_size=0.2, random_state=42)\n",
    "\n",
    "# Create a Decision Tree classifier and train it\n",
    "dt = DecisionTreeClassifier(max_depth=3, criterion='gini', splitter='best')\n",
    "\n",
    "# Fit the model to the training data\n",
    "dt.fit(X_train, y_train)\n",
    "\n",
    "# Now it's safe to access tree-related attributes\n",
    "n_nodes = dt.tree_.node_count  # Number of nodes in the tree\n",
    "tree_depth = dt.tree_.max_depth  # Depth of the tree\n",
    "\n",
    "print(\"Number of nodes:\", n_nodes)\n",
    "print(\"Tree depth:\", tree_depth)\n"
   ]
  },
  {
   "cell_type": "code",
   "execution_count": 18,
   "metadata": {},
   "outputs": [
    {
     "name": "stdout",
     "output_type": "stream",
     "text": [
      "Gini Decision Tree without PCA\n",
      "Nodes: 5\n",
      "Depth: 2\n"
     ]
    }
   ],
   "source": [
    "# Number of nodes and depth of decision tree without PCA\n",
    "#--- Gini\n",
    "n_nodes = dt.tree_.node_count\n",
    "n_nodes\n",
    "\n",
    "depth = dt.tree_.max_depth\n",
    "depth\n",
    "\n",
    "print('Gini Decision Tree without PCA')\n",
    "print('Nodes:',n_nodes)\n",
    "print('Depth:',depth)"
   ]
  },
  {
   "cell_type": "markdown",
   "metadata": {},
   "source": [
    "### Comparison of KNN and Decision Tree Models\n",
    "\n",
    "The KNN model achieved a test accuracy of 76%, whereas the Decision Tree model showed a slightly higher accuracy of 77%.\n",
    "This indicates a marginal advantage in accuracy for the Decision Tree model over the KNN model in this context.\n",
    "\n",
    "However, the AUC score, which measures the model's ability to distinguish between classes,  was higher for the KNN model at 0.82 compared to the Decision Tree model. This suggests that the KNN model is more effective at identifying patients with diabetes, making it potentially more suitable for applications where the correct prediction of positive cases is crucial."
   ]
  }
 ],
 "metadata": {
  "kernelspec": {
   "display_name": "base",
   "language": "python",
   "name": "python3"
  },
  "language_info": {
   "codemirror_mode": {
    "name": "ipython",
    "version": 3
   },
   "file_extension": ".py",
   "mimetype": "text/x-python",
   "name": "python",
   "nbconvert_exporter": "python",
   "pygments_lexer": "ipython3",
   "version": "3.11.5"
  }
 },
 "nbformat": 4,
 "nbformat_minor": 2
}
