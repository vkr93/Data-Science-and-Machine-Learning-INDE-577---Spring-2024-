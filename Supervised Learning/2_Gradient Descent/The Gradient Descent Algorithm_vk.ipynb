{
 "cells": [
  {
   "cell_type": "markdown",
   "id": "5625bebe",
   "metadata": {},
   "source": [
    "# The Gradiend Descent\n",
    "\n",
    "[![Open In Colab](https://colab.research.google.com/assets/colab-badge.svg)](https://github.com/vkr93/Data-Science-and-Machine-Learning-INDE-577---Spring-2024-/blob/main/Supervised%20Learning/2_Gradient%20Descent/The%20Gradient%20Descent%20Algorithm_vk.ipynb)\n",
    "\n",
    "This notebook will build and implement both batch gradient descent and stochastic gradient descent models, then implement it with the [Breast Cancer](Dataset/data.csv) dataset.    "
   ]
  },
  {
   "cell_type": "code",
   "execution_count": 2,
   "id": "827000a7",
   "metadata": {},
   "outputs": [],
   "source": [
    "#Always include important packages imports at the top\n",
    "import numpy as np\n",
    "import matplotlib.pyplot as plt\n",
    "import seaborn as sns\n",
    "import pandas as pd\n",
    "from sklearn.datasets import load_breast_cancer\n",
    "from sklearn.model_selection import train_test_split\n",
    "from sklearn.metrics import accuracy_score\n",
    "from sklearn.preprocessing import StandardScaler"
   ]
  },
  {
   "cell_type": "code",
   "execution_count": 6,
   "id": "c90734fc",
   "metadata": {},
   "outputs": [],
   "source": [
    "# Load breast cancer dataset\n",
    "data = load_breast_cancer()"
   ]
  },
  {
   "cell_type": "code",
   "execution_count": 7,
   "id": "5bc4cc1f",
   "metadata": {},
   "outputs": [],
   "source": [
    "#Split labels and features\n",
    "X = data.data\n",
    "y = data.target"
   ]
  },
  {
   "cell_type": "code",
   "execution_count": 8,
   "id": "0773395c",
   "metadata": {},
   "outputs": [],
   "source": [
    "# Standardize features using StandardScaler\n",
    "scaler = StandardScaler()\n",
    "features_scaled = scaler.fit_transform(X)\n",
    "\n",
    "# Add a column of ones for the bias term\n",
    "bias_column = np.ones((features_scaled.shape[0], 1))\n",
    "features_with_bias = np.hstack((bias_column, features_scaled))\n",
    "\n",
    "# Split into training and testing sets\n",
    "X_train, X_test, y_train, y_test = train_test_split(features_with_bias, y, test_size=0.2, random_state=42)"
   ]
  },
  {
   "cell_type": "code",
   "execution_count": 10,
   "id": "62a83651",
   "metadata": {},
   "outputs": [],
   "source": [
    "# Define the cost function\n",
    "def loss(X, y, w):\n",
    "    \"\"\"\n",
    "    Calculate the mean squared error (loss)\n",
    "\n",
    "    Parameters\n",
    "    ----------\n",
    "    X : numpy array, shape (m, n)\n",
    "        Matrix of input features, where m is the number of examples and n is the number of features.\n",
    "    y : numpy array, shape (m,)\n",
    "        Vector of output labels.\n",
    "    w : numpy array, shape (n,)\n",
    "        Vector of model parameters.\n",
    "\n",
    "    Returns\n",
    "    -------\n",
    "    J : float\n",
    "        The mean squared error loss between the predicted output and the true output.\n",
    "    \"\"\" \n",
    "    m = len(y)\n",
    "    h = X @ w\n",
    "    J = (1/(2*m)) * np.sum((h - y)**2)\n",
    "    return J\n",
    "\n",
    "\n",
    "# Define the gradient descent function\n",
    "def gradient_descent(X, y, w, learning_rate, epochs):\n",
    "    \"\"\"\n",
    "    Perform gradient descent to learn the parameters of model.\n",
    "\n",
    "    Parameters\n",
    "    ----------\n",
    "    X : numpy array, shape (m, n)\n",
    "        Matrix of input features, where m is the number of examples and n is the number of features.\n",
    "    y : numpy array, shape (m,)\n",
    "        Vector of output labels.\n",
    "    w : numpy array, shape (n,)\n",
    "        Vector of initial model parameters.\n",
    "    learning_rate : float\n",
    "        The step size used to update the model parameters.\n",
    "    epochs : int\n",
    "        The number of iterations to perform gradient descent.\n",
    "\n",
    "    Returns\n",
    "    -------\n",
    "    w : numpy array, shape (n,)\n",
    "        The learned model parameters.\n",
    "    loss_history : numpy array, shape (epochs,)\n",
    "        The history of the loss values during gradient descent\n",
    "    \"\"\"\n",
    "    m = len(y)\n",
    "    loss_history = np.zeros(epochs)\n",
    "    for i in range(epochs):\n",
    "        h = X @ w\n",
    "        w = w - (learning_rate/m) * (X.T @ (h - y))\n",
    "        loss_history[i] = loss(X, y, w)\n",
    "    return w, loss_history\n",
    "\n",
    "def predict(X, w):\n",
    "    \"\"\"\n",
    "    Make predictions using the learned weights\n",
    "    \n",
    "    X : numpy array, shape (m, n)\n",
    "        Matrix of input features, where m is the number of examples and n is the number of features.\n",
    "    w : numpy array, shape (n,)\n",
    "        Vector of initial model parameters.\n",
    "    \n",
    "    Returns\n",
    "    -------\n",
    "    z : numpy array, shape (n,)\n",
    "        The predicted label.\n",
    "\n",
    "    \"\"\"\n",
    "    z = abs(np.round(np.dot(X, w)))\n",
    "    return z"
   ]
  },
  {
   "cell_type": "code",
   "execution_count": 11,
   "id": "66c21f92",
   "metadata": {},
   "outputs": [
    {
     "data": {
      "image/png": "[encoded data removed]",
      "text/plain": [
       "<Figure size 640x480 with 1 Axes>"
      ]
     },
     "metadata": {},
     "output_type": "display_data"
    }
   ],
   "source": [
    "# Initialize parameters and hyperparameters\n",
    "parameters = np.zeros(features_with_bias.shape[1])\n",
    "learning_rate = 0.1\n",
    "num_epochs = 1000\n",
    "\n",
    "# Run gradient descent on the training dataset\n",
    "final_weights, cost_progress = gradient_descent(\n",
    "    X_train, y_train, parameters, learning_rate, num_epochs)\n",
    "\n",
    "# Visualize the cost function over the training epochs\n",
    "plt.plot(range(num_epochs), cost_progress)\n",
    "plt.xlabel('Number of Epochs')\n",
    "plt.ylabel('Cost Value')\n",
    "plt.title('Cost Function Progression')\n",
    "plt.show()\n"
   ]
  },
  {
   "cell_type": "code",
   "execution_count": 13,
   "id": "3ca9deae",
   "metadata": {},
   "outputs": [
    {
     "name": "stdout",
     "output_type": "stream",
     "text": [
      "Testing Accuracy: 95.61%\n"
     ]
    }
   ],
   "source": [
    "# Evaluate the model on the test set\n",
    "y_pred = predict(X_test, final_weights)\n",
    "accuracy = accuracy_score(y_test, y_pred)\n",
    "print('Testing Accuracy: {:.2f}%'.format(accuracy*100))"
   ]
  },
  {
   "cell_type": "code",
   "execution_count": 14,
   "id": "432b2525",
   "metadata": {},
   "outputs": [
    {
     "data": {
      "image/png": "[encoded data removed]",
      "text/plain": [
       "<Figure size 600x400 with 1 Axes>"
      ]
     },
     "metadata": {},
     "output_type": "display_data"
    }
   ],
   "source": [
    "# Import metrics from sklearn \n",
    "from sklearn import metrics\n",
    "\n",
    "# The confusion matrix\n",
    "confusion_matrix = metrics.confusion_matrix(y_test, y_pred)\n",
    "# Convert confusion matrix into dataframe\n",
    "matrix_df = pd.DataFrame(confusion_matrix)\n",
    "#Plot confusion matrix\n",
    "plt.figure(figsize=(6, 4))\n",
    "ax = plt.axes()\n",
    "sns.set(font_scale=1.3)\n",
    "sns.heatmap(matrix_df,\n",
    "            annot = True, \n",
    "            fmt = \"g\",\n",
    "            ax = ax, \n",
    "            cmap = \"magma\", \n",
    "            cbar = False)\n",
    "ax.set_title(\"Confusion Matrix - Gradient Descent\")\n",
    "ax.set_xlabel(\"Predicted Label\", fontsize=15)\n",
    "ax.set_xticklabels([\"malignant\", \"benign\"])\n",
    "ax.set_ylabel(\"True Label\", fontsize=15)\n",
    "ax.set_yticklabels([\"malignant\", \"benign\"], rotation=0)\n",
    "plt.show()"
   ]
  },
  {
   "cell_type": "code",
   "execution_count": 15,
   "id": "ad16be44",
   "metadata": {},
   "outputs": [
    {
     "name": "stdout",
     "output_type": "stream",
     "text": [
      "              precision    recall  f1-score   support\n",
      "\n",
      "           0       0.97      0.91      0.94        43\n",
      "           1       0.95      0.99      0.97        71\n",
      "\n",
      "    accuracy                           0.96       114\n",
      "   macro avg       0.96      0.95      0.95       114\n",
      "weighted avg       0.96      0.96      0.96       114\n",
      "\n"
     ]
    }
   ],
   "source": [
    "from sklearn.metrics import classification_report\n",
    "#Checking performance our model with classification report.\n",
    "print(classification_report(y_test, y_pred))"
   ]
  },
  {
   "cell_type": "markdown",
   "id": "3161d2d0",
   "metadata": {},
   "source": [
    "### Conclusion\n",
    "\n",
    "The model evaluation shows that gradient descent is capable of predicting the type of tumor with a very high accuracy. A summary of the results obtained is: The gradient descent is able to achieve a testing accuracy of 96%.\n",
    "The precision of the gradient descent is 97% and 95% respectively for malignant and benign tumors."
   ]
  },
  {
   "cell_type": "markdown",
   "id": "0014e3ad",
   "metadata": {},
   "source": []
  }
 ],
 "metadata": {
  "kernelspec": {
   "display_name": "Python 3 (ipykernel)",
   "language": "python",
   "name": "python3"
  },
  "language_info": {
   "codemirror_mode": {
    "name": "ipython",
    "version": 3
   },
   "file_extension": ".py",
   "mimetype": "text/x-python",
   "name": "python",
   "nbconvert_exporter": "python",
   "pygments_lexer": "ipython3",
   "version": "3.11.5"
  }
 },
 "nbformat": 4,
 "nbformat_minor": 5
}
